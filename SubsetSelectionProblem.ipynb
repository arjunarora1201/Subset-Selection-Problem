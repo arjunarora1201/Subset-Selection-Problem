{
  "nbformat": 4,
  "nbformat_minor": 0,
  "metadata": {
    "colab": {
      "provenance": [],
      "authorship_tag": "ABX9TyPAGMGFkev0ynWfH9H1lj9X",
      "include_colab_link": true
    },
    "kernelspec": {
      "name": "python3",
      "display_name": "Python 3"
    },
    "language_info": {
      "name": "python"
    }
  },
  "cells": [
    {
      "cell_type": "markdown",
      "metadata": {
        "id": "view-in-github",
        "colab_type": "text"
      },
      "source": [
        "<a href=\"https://colab.research.google.com/github/arjunarora1201/Subset-Selection-Problem/blob/main/SubsetSelectionProblem.ipynb\" target=\"_parent\"><img src=\"https://colab.research.google.com/assets/colab-badge.svg\" alt=\"Open In Colab\"/></a>"
      ]
    },
    {
      "cell_type": "code",
      "execution_count": 2,
      "metadata": {
        "colab": {
          "base_uri": "https://localhost:8080/"
        },
        "id": "yWUci8Lcnj6L",
        "outputId": "299b288d-fb05-427a-a366-ab43828c4454"
      },
      "outputs": [
        {
          "output_type": "stream",
          "name": "stdout",
          "text": [
            "(-12, -6, -2, 9, 11)\n",
            "(-9, -2, 2, 3, 6)\n",
            "(-9, -3, 1, 2, 9)\n",
            "(-7, -2, 9)\n",
            "(-12, -7, -4, 3, 9, 11)\n",
            "(-6, -4, 1, 9)\n",
            "(-8, -2, 1, 9)\n",
            "(-5, -4, -3, 1, 2, 9)\n",
            "(-9, -6, 6, 9)\n",
            "(-8, -7, 1, 2, 3, 9)\n",
            "(-5, -2, 7)\n",
            "(-9, -5, -2, 7, 9)\n",
            "(-6, -5, -4, 6, 9)\n",
            "(-6, -3, -2, 2, 9)\n",
            "(-6, -3, 2, 7)\n",
            "(-4, -3, 7)\n",
            "(-4, -3, 1, 6)\n",
            "(-5, -4, -2, 11)\n",
            "(-7, -3, 3, 7)\n",
            "(-9, -4, 6, 7)\n",
            "(-5, -4, 9)\n",
            "(-8, -6, 2, 3, 9)\n",
            "\n",
            "Total Sets:  22\n"
          ]
        }
      ],
      "source": [
        "import random as r\n",
        "Set = set([-12, -3, -6, 7, 2, -2, 6, 3, 9, -7, -5, -8, 1, 11, -9, -4])\n",
        "SetList = list(Set)\n",
        "SetLB = 3\n",
        "SetUB = 6\n",
        "ResultList = set()\n",
        "Iterations = 1000\n",
        "for i in range(Iterations):\n",
        "    SetSize = r.randint(SetLB,SetUB)\n",
        "    Chromosome = r.sample(SetList,SetSize)\n",
        "    Chromosome.sort()\n",
        "    if sum(Chromosome) == 0:\n",
        "        ResultList.add(tuple(Chromosome))\n",
        "\n",
        "for r in ResultList:\n",
        "\tprint(r)\n",
        "\n",
        "print (\"\\nTotal Sets: \", len(ResultList))"
      ]
    }
  ]
}